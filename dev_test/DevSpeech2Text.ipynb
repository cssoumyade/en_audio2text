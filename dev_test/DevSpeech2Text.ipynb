{
 "cells": [
  {
   "cell_type": "code",
   "execution_count": 5,
   "id": "regulated-reflection",
   "metadata": {},
   "outputs": [
    {
     "name": "stdout",
     "output_type": "stream",
     "text": [
      "Collecting wget\n",
      "  Downloading wget-3.2.zip (10 kB)\n",
      "Building wheels for collected packages: wget\n",
      "  Building wheel for wget (setup.py): started\n",
      "  Building wheel for wget (setup.py): finished with status 'done'\n",
      "  Created wheel for wget: filename=wget-3.2-py3-none-any.whl size=9680 sha256=e9b3cd054971a5f8a8ad55e5637672ef94423562169a6cac03b5e26962648e22\n",
      "  Stored in directory: c:\\users\\soumy\\appdata\\local\\pip\\cache\\wheels\\90\\1d\\93\\c863ee832230df5cfc25ca497b3e88e0ee3ea9e44adc46ac62\n",
      "Successfully built wget\n",
      "Installing collected packages: wget\n",
      "Successfully installed wget-3.2\n"
     ]
    }
   ],
   "source": [
    "!pip install wget"
   ]
  },
  {
   "cell_type": "code",
   "execution_count": 7,
   "id": "integral-start",
   "metadata": {},
   "outputs": [
    {
     "name": "stderr",
     "output_type": "stream",
     "text": [
      "'wget' is not recognized as an internal or external command,\n",
      "operable program or batch file.\n"
     ]
    }
   ],
   "source": [
    "!wget https://github.com/cssoumyade/en_audio2text/archive/master.zip"
   ]
  },
  {
   "cell_type": "code",
   "execution_count": 8,
   "id": "controversial-immune",
   "metadata": {},
   "outputs": [
    {
     "name": "stderr",
     "output_type": "stream",
     "text": [
      "'unzip' is not recognized as an internal or external command,\n",
      "operable program or batch file.\n"
     ]
    }
   ],
   "source": [
    "!unzip master.zip"
   ]
  },
  {
   "cell_type": "code",
   "execution_count": null,
   "id": "secure-internet",
   "metadata": {},
   "outputs": [],
   "source": [
    "rm master.zip"
   ]
  },
  {
   "cell_type": "code",
   "execution_count": null,
   "id": "shared-sherman",
   "metadata": {},
   "outputs": [],
   "source": [
    "cd en_audio2text-master"
   ]
  },
  {
   "cell_type": "code",
   "execution_count": 8,
   "id": "remarkable-leadership",
   "metadata": {},
   "outputs": [
    {
     "ename": "ModuleNotFoundError",
     "evalue": "No module named 'en_audio2text'",
     "output_type": "error",
     "traceback": [
      "\u001b[1;31m---------------------------------------------------------------------------\u001b[0m",
      "\u001b[1;31mModuleNotFoundError\u001b[0m                       Traceback (most recent call last)",
      "\u001b[1;32m<ipython-input-8-ec770ce5c10f>\u001b[0m in \u001b[0;36m<module>\u001b[1;34m\u001b[0m\n\u001b[1;32m----> 1\u001b[1;33m \u001b[1;32mfrom\u001b[0m \u001b[0men_audio2text\u001b[0m\u001b[1;33m.\u001b[0m\u001b[0maud2text\u001b[0m \u001b[1;32mimport\u001b[0m \u001b[0mSpeechRecognizer\u001b[0m\u001b[1;33m\u001b[0m\u001b[1;33m\u001b[0m\u001b[0m\n\u001b[0m",
      "\u001b[1;31mModuleNotFoundError\u001b[0m: No module named 'en_audio2text'"
     ]
    }
   ],
   "source": [
    "from en_audio2text.aud2text import SpeechRecognizer"
   ]
  },
  {
   "cell_type": "code",
   "execution_count": 6,
   "id": "external-editing",
   "metadata": {},
   "outputs": [
    {
     "name": "stdout",
     "output_type": "stream",
     "text": [
      "Please wait while we transcribe...\n",
      "\n"
     ]
    },
    {
     "data": {
      "text/plain": [
       "'you can not fix the thing that you have made wrong intentionally in the past'"
      ]
     },
     "execution_count": 6,
     "metadata": {},
     "output_type": "execute_result"
    }
   ],
   "source": [
    "sr = SpeechRecognizer(src='file')\n",
    "sr.act('sample_audio_2.wav')"
   ]
  },
  {
   "cell_type": "code",
   "execution_count": null,
   "id": "seasonal-deployment",
   "metadata": {},
   "outputs": [],
   "source": []
  }
 ],
 "metadata": {
  "kernelspec": {
   "display_name": "Python 3",
   "language": "python",
   "name": "python3"
  },
  "language_info": {
   "codemirror_mode": {
    "name": "ipython",
    "version": 3
   },
   "file_extension": ".py",
   "mimetype": "text/x-python",
   "name": "python",
   "nbconvert_exporter": "python",
   "pygments_lexer": "ipython3",
   "version": "3.6.13"
  }
 },
 "nbformat": 4,
 "nbformat_minor": 5
}
