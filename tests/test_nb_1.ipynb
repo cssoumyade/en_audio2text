{
 "cells": [
  {
   "cell_type": "code",
   "execution_count": 3,
   "id": "intellectual-guyana",
   "metadata": {},
   "outputs": [
    {
     "name": "stdout",
     "output_type": "stream",
     "text": [
      "Collecting en-audio2text-soumyade\n",
      "  Using cached en_audio2text_soumyade-1.0.3-py3-none-any.whl (4.9 kB)\n",
      "Collecting pyaudio\n",
      "  Using cached PyAudio-0.2.11-cp36-cp36m-win_amd64.whl (52 kB)\n"
     ]
    },
    {
     "name": "stderr",
     "output_type": "stream",
     "text": [
      "ERROR: Could not find a version that satisfies the requirement speech-recognition (from en-audio2text-soumyade)\n",
      "ERROR: No matching distribution found for speech-recognition\n"
     ]
    }
   ],
   "source": [
    "#test 1 :  installation from pypi.org\n",
    "!pip install en-audio2text-soumyade"
   ]
  },
  {
   "cell_type": "code",
   "execution_count": null,
   "id": "binding-particular",
   "metadata": {},
   "outputs": [],
   "source": []
  }
 ],
 "metadata": {
  "kernelspec": {
   "display_name": "Python 3",
   "language": "python",
   "name": "python3"
  },
  "language_info": {
   "codemirror_mode": {
    "name": "ipython",
    "version": 3
   },
   "file_extension": ".py",
   "mimetype": "text/x-python",
   "name": "python",
   "nbconvert_exporter": "python",
   "pygments_lexer": "ipython3",
   "version": "3.6.13"
  }
 },
 "nbformat": 4,
 "nbformat_minor": 5
}
