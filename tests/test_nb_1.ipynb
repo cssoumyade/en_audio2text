{
 "cells": [
  {
   "cell_type": "code",
   "execution_count": 2,
   "id": "intellectual-guyana",
   "metadata": {},
   "outputs": [
    {
     "name": "stdout",
     "output_type": "stream",
     "text": [
      "Collecting en-audio2text-soumyade\n",
      "  Using cached en_audio2text_soumyade-1.0.3-py3-none-any.whl (4.9 kB)\n",
      "  Using cached en_audio2text_soumyade-1.0.2-py3-none-any.whl (5.0 kB)\n",
      "\n",
      "The conflict is caused by:\n",
      "    en-audio2text-soumyade 1.0.3 depends on speech-recognition\n",
      "    en-audio2text-soumyade 1.0.2 depends on speech-recognition\n",
      "\n",
      "To fix this you could try to:\n",
      "1. loosen the range of package versions you've specified\n",
      "2. remove package versions to allow pip attempt to solve the dependency conflict\n",
      "\n"
     ]
    },
    {
     "name": "stderr",
     "output_type": "stream",
     "text": [
      "ERROR: Cannot install en-audio2text-soumyade==1.0.2 and en-audio2text-soumyade==1.0.3 because these package versions have conflicting dependencies.\n",
      "ERROR: ResolutionImpossible: for help visit https://pip.pypa.io/en/latest/user_guide/#fixing-conflicting-dependencies\n"
     ]
    }
   ],
   "source": [
    "#test 1 :  installation from pypi.org\n",
    "!pip install en-audio2text-soumyade"
   ]
  },
  {
   "cell_type": "code",
   "execution_count": null,
   "id": "binding-particular",
   "metadata": {},
   "outputs": [],
   "source": []
  }
 ],
 "metadata": {
  "kernelspec": {
   "display_name": "Python 3",
   "language": "python",
   "name": "python3"
  },
  "language_info": {
   "codemirror_mode": {
    "name": "ipython",
    "version": 3
   },
   "file_extension": ".py",
   "mimetype": "text/x-python",
   "name": "python",
   "nbconvert_exporter": "python",
   "pygments_lexer": "ipython3",
   "version": "3.6.13"
  }
 },
 "nbformat": 4,
 "nbformat_minor": 5
}
