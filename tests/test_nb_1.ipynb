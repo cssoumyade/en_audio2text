{
 "cells": [
  {
   "cell_type": "code",
   "execution_count": 5,
   "id": "intellectual-guyana",
   "metadata": {},
   "outputs": [
    {
     "name": "stdout",
     "output_type": "stream",
     "text": [
      "Collecting en-audio2text-soumyade\n",
      "  Downloading en_audio2text_soumyade-1.1.1-py3-none-any.whl (4.9 kB)\n",
      "Collecting PyAudio\n",
      "  Using cached PyAudio-0.2.11-cp36-cp36m-win_amd64.whl (52 kB)\n",
      "Collecting SpeechRecognition\n",
      "  Using cached SpeechRecognition-3.8.1-py2.py3-none-any.whl (32.8 MB)\n",
      "Installing collected packages: SpeechRecognition, PyAudio, en-audio2text-soumyade\n",
      "Successfully installed PyAudio-0.2.11 SpeechRecognition-3.8.1 en-audio2text-soumyade-1.1.1\n"
     ]
    }
   ],
   "source": [
    "#test 1 :  installation from pypi.org\n",
    "!pip install en-audio2text-soumyade"
   ]
  },
  {
   "cell_type": "code",
   "execution_count": 6,
   "id": "binding-particular",
   "metadata": {},
   "outputs": [
    {
     "ename": "ModuleNotFoundError",
     "evalue": "No module named 'sd_audio2text'",
     "output_type": "error",
     "traceback": [
      "\u001b[1;31m---------------------------------------------------------------------------\u001b[0m",
      "\u001b[1;31mModuleNotFoundError\u001b[0m                       Traceback (most recent call last)",
      "\u001b[1;32m<ipython-input-6-4e7607d4e261>\u001b[0m in \u001b[0;36m<module>\u001b[1;34m\u001b[0m\n\u001b[0;32m      1\u001b[0m \u001b[1;31m#test 2: importing required module\u001b[0m\u001b[1;33m\u001b[0m\u001b[1;33m\u001b[0m\u001b[1;33m\u001b[0m\u001b[0m\n\u001b[1;32m----> 2\u001b[1;33m \u001b[1;32mfrom\u001b[0m \u001b[0men_audio2text\u001b[0m\u001b[1;33m.\u001b[0m\u001b[0maud2text\u001b[0m \u001b[1;32mimport\u001b[0m \u001b[0mSpeechRecognizer\u001b[0m\u001b[1;33m\u001b[0m\u001b[1;33m\u001b[0m\u001b[0m\n\u001b[0m",
      "\u001b[1;32mc:\\users\\soumy\\anaconda3\\envs\\testsr\\lib\\site-packages\\en_audio2text\\aud2text.py\u001b[0m in \u001b[0;36m<module>\u001b[1;34m\u001b[0m\n\u001b[0;32m      1\u001b[0m \u001b[1;32mimport\u001b[0m \u001b[0mspeech_recognition\u001b[0m\u001b[1;33m\u001b[0m\u001b[1;33m\u001b[0m\u001b[0m\n\u001b[0;32m      2\u001b[0m \u001b[1;32mimport\u001b[0m \u001b[0mos\u001b[0m\u001b[1;33m\u001b[0m\u001b[1;33m\u001b[0m\u001b[0m\n\u001b[1;32m----> 3\u001b[1;33m \u001b[1;32mfrom\u001b[0m \u001b[0msd_audio2text\u001b[0m\u001b[1;33m.\u001b[0m\u001b[0mtext_rules\u001b[0m \u001b[1;32mimport\u001b[0m \u001b[0mTextConvRules\u001b[0m\u001b[1;33m\u001b[0m\u001b[1;33m\u001b[0m\u001b[0m\n\u001b[0m\u001b[0;32m      4\u001b[0m \u001b[1;33m\u001b[0m\u001b[0m\n\u001b[0;32m      5\u001b[0m \u001b[1;33m\u001b[0m\u001b[0m\n",
      "\u001b[1;31mModuleNotFoundError\u001b[0m: No module named 'sd_audio2text'"
     ]
    }
   ],
   "source": [
    "#test 2: importing required module\n",
    "from en_audio2text.aud2text import SpeechRecognizer"
   ]
  },
  {
   "cell_type": "code",
   "execution_count": null,
   "id": "signed-manhattan",
   "metadata": {},
   "outputs": [],
   "source": []
  }
 ],
 "metadata": {
  "kernelspec": {
   "display_name": "Python 3",
   "language": "python",
   "name": "python3"
  },
  "language_info": {
   "codemirror_mode": {
    "name": "ipython",
    "version": 3
   },
   "file_extension": ".py",
   "mimetype": "text/x-python",
   "name": "python",
   "nbconvert_exporter": "python",
   "pygments_lexer": "ipython3",
   "version": "3.6.13"
  }
 },
 "nbformat": 4,
 "nbformat_minor": 5
}
