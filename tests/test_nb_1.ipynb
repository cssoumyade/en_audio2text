{
 "cells": [
  {
   "cell_type": "code",
   "execution_count": 3,
   "id": "signed-manhattan",
   "metadata": {},
   "outputs": [
    {
     "name": "stdout",
     "output_type": "stream",
     "text": [
      "Requirement already satisfied: SpeechRecognition in c:\\users\\soumy\\anaconda3\\envs\\testsr\\lib\\site-packages (3.8.1)\n",
      "Collecting PyAudio\n",
      "  Using cached PyAudio-0.2.11-cp36-cp36m-win_amd64.whl (52 kB)\n",
      "Installing collected packages: PyAudio\n",
      "Successfully installed PyAudio-0.2.11\n"
     ]
    }
   ],
   "source": [
    "!pip install SpeechRecognition PyAudio"
   ]
  },
  {
   "cell_type": "code",
   "execution_count": 4,
   "id": "intellectual-guyana",
   "metadata": {},
   "outputs": [
    {
     "name": "stdout",
     "output_type": "stream",
     "text": [
      "Requirement already satisfied: en-audio2text-soumyade in c:\\users\\soumy\\anaconda3\\envs\\testsr\\lib\\site-packages (0.0.1.2)\n"
     ]
    }
   ],
   "source": [
    "#test 1 :  installation from pypi.org\n",
    "!pip install en-audio2text-soumyade"
   ]
  },
  {
   "cell_type": "code",
   "execution_count": 5,
   "id": "binding-particular",
   "metadata": {},
   "outputs": [],
   "source": [
    "#test 2: importing required module\n",
    "from en_audio2text.aud2text import SpeechRecognizer"
   ]
  },
  {
   "cell_type": "code",
   "execution_count": 6,
   "id": "aerial-sociology",
   "metadata": {},
   "outputs": [
    {
     "name": "stdout",
     "output_type": "stream",
     "text": [
      "Speak into the mic....\n",
      "\n",
      "Please wait while we transcribe...\n",
      "\n"
     ]
    },
    {
     "data": {
      "text/plain": [
       "{'alternative': [{'transcript': 'hi I am Alexa Sparta one of the many invincible why you are in the army',\n",
       "   'confidence': 0.79579026},\n",
       "  {'transcript': 'hi I am Alexa Sparta one of the many invincible why are you in the army'},\n",
       "  {'transcript': 'hi I am Alexis part one of the many invincible why you are in the army'},\n",
       "  {'transcript': 'hi I am Alexis Hospital one of the many invincible why you are in the army'},\n",
       "  {'transcript': 'hi I am Alexis part one of the many invincible why are you in the army'}],\n",
       " 'final': True}"
      ]
     },
     "execution_count": 6,
     "metadata": {},
     "output_type": "execute_result"
    }
   ],
   "source": [
    "sr = SpeechRecognizer(debug=True)\n",
    "sr.act()"
   ]
  },
  {
   "cell_type": "code",
   "execution_count": null,
   "id": "western-dominant",
   "metadata": {},
   "outputs": [],
   "source": []
  }
 ],
 "metadata": {
  "kernelspec": {
   "display_name": "Python 3",
   "language": "python",
   "name": "python3"
  },
  "language_info": {
   "codemirror_mode": {
    "name": "ipython",
    "version": 3
   },
   "file_extension": ".py",
   "mimetype": "text/x-python",
   "name": "python",
   "nbconvert_exporter": "python",
   "pygments_lexer": "ipython3",
   "version": "3.6.13"
  }
 },
 "nbformat": 4,
 "nbformat_minor": 5
}
