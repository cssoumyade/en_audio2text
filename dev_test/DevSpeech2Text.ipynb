{
 "cells": [
  {
   "cell_type": "code",
   "execution_count": 5,
   "id": "remarkable-leadership",
   "metadata": {},
   "outputs": [],
   "source": [
    "from en_audio2text.aud2text import SpeechRecognizer"
   ]
  },
  {
   "cell_type": "code",
   "execution_count": 6,
   "id": "external-editing",
   "metadata": {},
   "outputs": [
    {
     "name": "stdout",
     "output_type": "stream",
     "text": [
      "Please wait while we transcribe...\n",
      "\n"
     ]
    },
    {
     "data": {
      "text/plain": [
       "'you can not fix the thing that you have made wrong intentionally in the past'"
      ]
     },
     "execution_count": 6,
     "metadata": {},
     "output_type": "execute_result"
    }
   ],
   "source": [
    "sr = SpeechRecognizer(src='file')\n",
    "sr.act('sample_audio_2.wav')"
   ]
  },
  {
   "cell_type": "code",
   "execution_count": null,
   "id": "seasonal-deployment",
   "metadata": {},
   "outputs": [],
   "source": []
  }
 ],
 "metadata": {
  "kernelspec": {
   "display_name": "Python 3",
   "language": "python",
   "name": "python3"
  },
  "language_info": {
   "codemirror_mode": {
    "name": "ipython",
    "version": 3
   },
   "file_extension": ".py",
   "mimetype": "text/x-python",
   "name": "python",
   "nbconvert_exporter": "python",
   "pygments_lexer": "ipython3",
   "version": "3.6.13"
  }
 },
 "nbformat": 4,
 "nbformat_minor": 5
}
